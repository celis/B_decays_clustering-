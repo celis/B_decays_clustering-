{
 "cells": [
  {
   "cell_type": "code",
   "execution_count": null,
   "metadata": {},
   "outputs": [],
   "source": [
    "# Show plots in Jupyter notebooks\n",
    "%matplotlib inline\n",
    "\n",
    "# Reload modules whenever they change\n",
    "# (for development purposes)\n",
    "%load_ext autoreload\n",
    "%autoreload 2\n",
    "\n",
    "# Make clusterking package available even without installation\n",
    "import sys\n",
    "sys.path = [\"../../\"] + sys.path"
   ]
  },
  {
   "cell_type": "code",
   "execution_count": null,
   "metadata": {},
   "outputs": [],
   "source": [
    "import clusterking as ck\n",
    "from clusterking.stability.subsamplestability import SubSampleStabilityTester\n",
    "from clusterking.stability.fom import *\n",
    "from clusterking.stability.preprocessor import *\n",
    "from clusterking.cluster import HierarchyCluster\n",
    "from clusterking.benchmark import Benchmark\n",
    "import numpy as np\n",
    "import pandas as pd\n",
    "import tqdm"
   ]
  },
  {
   "cell_type": "code",
   "execution_count": null,
   "metadata": {},
   "outputs": [],
   "source": [
    "d = ck.Data(\"output/tutorial_basics.sql\")"
   ]
  },
  {
   "cell_type": "markdown",
   "metadata": {},
   "source": [
    "## SubSampleStabilityTester"
   ]
  },
  {
   "cell_type": "markdown",
   "metadata": {},
   "source": [
    "In this stability test we test the stability of the clustering and benchmarking by taking a set of sample points and reclustering/rebenchmarking subsets of it and then comparing the results."
   ]
  },
  {
   "cell_type": "code",
   "execution_count": null,
   "metadata": {},
   "outputs": [],
   "source": [
    "# Initialize and configure sub sample stability test\n",
    "ssst = SubSampleStabilityTester()\n",
    "ssst.set_sampling(frac=0.8)\n",
    "ssst.set_repeat(100)\n",
    "\n",
    "# Add some figures of merit (FOMs)\n",
    "ssst.add_fom(\n",
    "    MatchingClusters(\n",
    "        preprocessor=TrivialClusterMatcher(),\n",
    "        name=\"MatchingClusters\"\n",
    "    )\n",
    ")\n",
    "ssst.add_fom(\n",
    "    AverageBMProximityFOM(\n",
    "        preprocessor=TrivialClusterMatcher(),\n",
    "        name=\"AverageBMProximity\"\n",
    "    )\n",
    ")\n",
    "ssst.add_fom(DeltaNClusters(name=\"DeltaNClusters\"))"
   ]
  },
  {
   "cell_type": "code",
   "execution_count": null,
   "metadata": {},
   "outputs": [],
   "source": [
    "# Configure clustering and benchmarking\n",
    "c = HierarchyCluster()\n",
    "c.set_max_d(0.2)\n",
    "b = Benchmark()\n",
    "b.set_metric(\"euclidean\")"
   ]
  },
  {
   "cell_type": "code",
   "execution_count": null,
   "metadata": {},
   "outputs": [],
   "source": [
    "# Run the SSST using these clustering and benchmarking workers\n",
    "r = ssst.run(d, c, benchmark=b)"
   ]
  },
  {
   "cell_type": "code",
   "execution_count": null,
   "metadata": {},
   "outputs": [],
   "source": [
    "# The SSST result object contains a dataframe with the FOMs\n",
    "# which we are plotting here\n",
    "r.df.hist(\n",
    "    [\"MatchingClusters\", \"DeltaNClusters\", \"AverageBMProximity\"],\n",
    "    density=True, layout=(1, 3), figsize=(15, 5)\n",
    ");"
   ]
  },
  {
   "cell_type": "code",
   "execution_count": null,
   "metadata": {},
   "outputs": [],
   "source": [
    "r.df.describe()"
   ]
  },
  {
   "cell_type": "markdown",
   "metadata": {},
   "source": [
    "## SubSampleStabilityVsFraction"
   ]
  },
  {
   "cell_type": "markdown",
   "metadata": {},
   "source": [
    "Here, the idea is to repeat the ``SubSampleStabilityTest`` from before for different values of the fraction.\n",
    "This has been implemented as the ``SubSampleStabilityVsFraction`` test."
   ]
  },
  {
   "cell_type": "code",
   "execution_count": null,
   "metadata": {},
   "outputs": [],
   "source": [
    "from clusterking.stability.subsamplestability import SubSampleStabilityVsFraction"
   ]
  },
  {
   "cell_type": "code",
   "execution_count": null,
   "metadata": {},
   "outputs": [],
   "source": [
    "# Initialize and configure the SubSampleStabilityTester\n",
    "# which will later be run repeatedly\n",
    "ssst = SubSampleStabilityTester()\n",
    "ssst.set_repeat(repeat=100)\n",
    "ssst.add_fom(\n",
    "    MatchingClusters(\n",
    "        preprocessor=TrivialClusterMatcher(),\n",
    "        name=\"MatchingClusters\"\n",
    "    )\n",
    ")\n",
    "ssst.add_fom(DeltaNClusters(name=\"DeltaNClusters\"))"
   ]
  },
  {
   "cell_type": "code",
   "execution_count": null,
   "metadata": {},
   "outputs": [],
   "source": [
    "# Initialize the actual test\n",
    "sssvf = SubSampleStabilityVsFraction()"
   ]
  },
  {
   "cell_type": "code",
   "execution_count": null,
   "metadata": {},
   "outputs": [],
   "source": [
    "# Run it using the SSST configured above\n",
    "r = sssvf.run(d, c, ssst, list(np.linspace(0.7, 0.999, 5)))"
   ]
  },
  {
   "cell_type": "code",
   "execution_count": null,
   "metadata": {},
   "outputs": [],
   "source": [
    "# Again the result object contains a dataframe from which we can plot\n",
    "r.df.plot.scatter(\"fraction\", \"MatchingClusters\")"
   ]
  },
  {
   "cell_type": "markdown",
   "metadata": {},
   "source": [
    "## Noisy sampling"
   ]
  },
  {
   "cell_type": "markdown",
   "metadata": {},
   "source": [
    "In this stability test, we consider sets of sample points that are very close together, i.e. we take an equidistant grid of sample points and then consider several samples, where add noise to these sample points, recluster, rebenchmark and compare the results."
   ]
  },
  {
   "cell_type": "code",
   "execution_count": null,
   "metadata": {},
   "outputs": [],
   "source": [
    "from clusterking.stability.noisysamplestability import NoisySampleStabilityTester, NoisySample"
   ]
  },
  {
   "cell_type": "markdown",
   "metadata": {},
   "source": [
    "In the first step we set up the scanner, data and cluster workers."
   ]
  },
  {
   "cell_type": "code",
   "execution_count": null,
   "metadata": {},
   "outputs": [],
   "source": [
    "import flavio\n",
    "import numpy as np\n",
    "\n",
    "s = ck.scan.WilsonScanner(scale=5, eft=\"WET\", basis=\"flavio\")\n",
    "\n",
    "def dBrdq2(w, q):\n",
    "    return flavio.np_prediction(\"dBR/dq2(B+->Dtaunu)\", w, q)\n",
    "\n",
    "s.set_dfunction(\n",
    "    dBrdq2,\n",
    "    binning=np.linspace(3.2, 11.6, 3),\n",
    "    normalize=True,\n",
    "    variable=\"q2\"  # only sets name of variable\n",
    ")\n",
    "\n",
    "s.set_spoints_equidist(\n",
    "    {\n",
    "        \"CVL_bctaunutau\": (-1, 1, 3),\n",
    "        \"CSL_bctaunutau\": (-1, 1, 3),\n",
    "        \"CT_bctaunutau\": (-1, 1, 3)\n",
    "    }\n",
    ")"
   ]
  },
  {
   "cell_type": "code",
   "execution_count": null,
   "metadata": {},
   "outputs": [],
   "source": [
    "d = ck.Data()"
   ]
  },
  {
   "cell_type": "code",
   "execution_count": null,
   "metadata": {},
   "outputs": [],
   "source": [
    "c = HierarchyCluster()\n",
    "c.set_max_d(0.2)"
   ]
  },
  {
   "cell_type": "markdown",
   "metadata": {},
   "source": [
    "Now we generate samples, i.e. several runs where we scan with some noise applied to the parameter points. This is done by the NoisySample worker class."
   ]
  },
  {
   "cell_type": "code",
   "execution_count": null,
   "metadata": {},
   "outputs": [],
   "source": [
    "ns = NoisySample()\n",
    "ns.set_repeat(1)\n",
    "ns.set_noise(\"gauss\", mean=0., sigma=0.02)\n",
    "nsr = ns.run(scanner=s, data=d)"
   ]
  },
  {
   "cell_type": "markdown",
   "metadata": {},
   "source": [
    "The result of the ``NoisySample`` can be fed into the ``NoisySampleStabilityTester`` which doesn't do more than to recluster, rebenchmark and computes some figures of merit."
   ]
  },
  {
   "cell_type": "code",
   "execution_count": null,
   "metadata": {},
   "outputs": [],
   "source": [
    "nsst = NoisySampleStabilityTester()\n",
    "nsst.add_fom(\n",
    "    MatchingClusters(\n",
    "        preprocessor=TrivialClusterMatcher(),\n",
    "        name=\"MatchingClusters\"\n",
    "    )\n",
    ")\n",
    "nsst.add_fom(DeltaNClusters(name=\"DeltaNClusters\"))"
   ]
  },
  {
   "cell_type": "code",
   "execution_count": null,
   "metadata": {},
   "outputs": [],
   "source": [
    "r = nsst.run(sample=nsr, cluster=c)"
   ]
  },
  {
   "cell_type": "code",
   "execution_count": null,
   "metadata": {},
   "outputs": [],
   "source": [
    "r.df"
   ]
  }
 ],
 "metadata": {
  "kernelspec": {
   "display_name": "Python 3",
   "language": "python",
   "name": "python3"
  },
  "language_info": {
   "codemirror_mode": {
    "name": "ipython",
    "version": 3
   },
   "file_extension": ".py",
   "mimetype": "text/x-python",
   "name": "python",
   "nbconvert_exporter": "python",
   "pygments_lexer": "ipython3",
   "version": "3.5.2"
  }
 },
 "nbformat": 4,
 "nbformat_minor": 2
}
